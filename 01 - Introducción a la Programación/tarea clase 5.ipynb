{
 "cells": [
  {
   "cell_type": "markdown",
   "metadata": {},
   "source": [
    "A partir de una lista vacía, utilice un ciclo while para cargar allí números negativos del -15 al -1"
   ]
  },
  {
   "cell_type": "markdown",
   "metadata": {},
   "source": []
  },
  {
   "cell_type": "code",
   "execution_count": 10,
   "metadata": {},
   "outputs": [
    {
     "name": "stdout",
     "output_type": "stream",
     "text": [
      "[-15, -14, -13, -12, -11, -10, -9, -8, -7, -6, -5, -4, -3, -2, -1]\n"
     ]
    }
   ],
   "source": [
    "lista_vacia = []\n",
    "n = -15\n",
    "while(n < 0):\n",
    "    lista_vacia.append(n)\n",
    "    n += 1\n",
    "print(lista_vacia)"
   ]
  },
  {
   "cell_type": "markdown",
   "metadata": {},
   "source": [
    "¿Con un ciclo while sería posible recorrer la lista para imprimir sólo los números pares?"
   ]
  },
  {
   "cell_type": "code",
   "execution_count": 18,
   "metadata": {},
   "outputs": [
    {
     "name": "stdout",
     "output_type": "stream",
     "text": [
      "-14\n",
      "-12\n",
      "-10\n",
      "-8\n",
      "-6\n",
      "-4\n",
      "-2\n"
     ]
    }
   ],
   "source": [
    "n = -15\n",
    "while(n < 0):\n",
    "    if(n % 2 ==0):\n",
    "        print(n)\n",
    "    n += 1  "
   ]
  },
  {
   "cell_type": "markdown",
   "metadata": {},
   "source": [
    "Resolver el punto anterior sin utilizar un ciclo while"
   ]
  },
  {
   "cell_type": "code",
   "execution_count": 21,
   "metadata": {},
   "outputs": [
    {
     "name": "stdout",
     "output_type": "stream",
     "text": [
      "-14\n",
      "-12\n",
      "-10\n",
      "-8\n",
      "-6\n",
      "-4\n",
      "-2\n"
     ]
    }
   ],
   "source": [
    "for i in range(-15,-1):\n",
    "    if(i % 2 == 0):\n",
    "        print(i)\n"
   ]
  },
  {
   "cell_type": "markdown",
   "metadata": {},
   "source": [
    "Usando el iterable para recorrer sólo los primeros 3 elementos"
   ]
  },
  {
   "cell_type": "code",
   "execution_count": 26,
   "metadata": {},
   "outputs": [
    {
     "name": "stdout",
     "output_type": "stream",
     "text": [
      "-15\n",
      "-14\n",
      "-13\n"
     ]
    }
   ],
   "source": [
    "primero3 = iter(lista_vacia)\n",
    "print(next(primero3))\n",
    "print(next(primero3))\n",
    "print(next(primero3))"
   ]
  },
  {
   "cell_type": "markdown",
   "metadata": {},
   "source": [
    "Utilizar la función enumerate para obtener dentro del iterable, tambien el índice al que corresponde el elemento"
   ]
  },
  {
   "cell_type": "code",
   "execution_count": 27,
   "metadata": {},
   "outputs": [
    {
     "name": "stdout",
     "output_type": "stream",
     "text": [
      "0 -15\n",
      "1 -14\n",
      "2 -13\n",
      "3 -12\n",
      "4 -11\n",
      "5 -10\n",
      "6 -9\n",
      "7 -8\n",
      "8 -7\n",
      "9 -6\n",
      "10 -5\n",
      "11 -4\n",
      "12 -3\n",
      "13 -2\n",
      "14 -1\n"
     ]
    }
   ],
   "source": [
    "for i,c in enumerate(lista_vacia):\n",
    "    print (i,c)"
   ]
  },
  {
   "cell_type": "markdown",
   "metadata": {},
   "source": [
    "Dada la siguiente lista de números enteros entre 1 y 20, crear un ciclo donde se completen los valores faltantes: lista = [1,2,5,7,8,10,13,14,15,17,20]"
   ]
  },
  {
   "cell_type": "code",
   "execution_count": 32,
   "metadata": {},
   "outputs": [
    {
     "name": "stdout",
     "output_type": "stream",
     "text": [
      "[1, 2, 3, 4, 5, 6, 7, 8, 9, 10, 11, 12, 13, 14, 15, 16, 17, 18, 19, 20]\n"
     ]
    }
   ],
   "source": [
    "lista = [1,2,5,7,8,10,13,14,15,17,20]\n",
    "lista_ref=list(range(1,21))\n",
    "for nro_ausente in lista_ref:\n",
    "    verdadero = nro_ausente in lista\n",
    "    if (verdadero == False):\n",
    "        lista.append(nro_ausente)\n",
    "lista.sort()        \n",
    "print(lista)       \n",
    "    "
   ]
  },
  {
   "cell_type": "markdown",
   "metadata": {},
   "source": [
    "La sucesión de Fibonacci es un listado de números que sigue la fórmula:\n",
    "n0 = 0\n",
    "n1 = 1\n",
    "ni = ni-1 + ni-2\n",
    "Crear una lista con los primeros treinta números de la sucesión\n",
    "Se trata de una secuencia infinita de números naturales; a partir del 0 y el 1, se van sumando a pares, de manera que cada número es igual a la suma de sus dos anteriores, de manera que:\n",
    "\n",
    "0, 1, 1, 2, 3, 5, 8, 13, 21, 34, 55…\n"
   ]
  },
  {
   "cell_type": "code",
   "execution_count": 7,
   "metadata": {},
   "outputs": [
    {
     "name": "stdout",
     "output_type": "stream",
     "text": [
      "[0, 1, 1]\n",
      "3\n",
      "[0, 1, 1, 2]\n",
      "4\n",
      "[0, 1, 1, 2, 3]\n",
      "5\n",
      "[0, 1, 1, 2, 3, 5]\n",
      "6\n",
      "[0, 1, 1, 2, 3, 5, 8]\n",
      "7\n",
      "[0, 1, 1, 2, 3, 5, 8, 13]\n",
      "8\n",
      "[0, 1, 1, 2, 3, 5, 8, 13, 21]\n",
      "9\n",
      "[0, 1, 1, 2, 3, 5, 8, 13, 21, 34]\n",
      "10\n",
      "[0, 1, 1, 2, 3, 5, 8, 13, 21, 34, 55]\n",
      "11\n",
      "[0, 1, 1, 2, 3, 5, 8, 13, 21, 34, 55, 89]\n",
      "12\n",
      "[0, 1, 1, 2, 3, 5, 8, 13, 21, 34, 55, 89, 144]\n",
      "13\n",
      "[0, 1, 1, 2, 3, 5, 8, 13, 21, 34, 55, 89, 144, 233]\n",
      "14\n",
      "[0, 1, 1, 2, 3, 5, 8, 13, 21, 34, 55, 89, 144, 233, 377]\n",
      "15\n",
      "[0, 1, 1, 2, 3, 5, 8, 13, 21, 34, 55, 89, 144, 233, 377, 610]\n",
      "16\n",
      "[0, 1, 1, 2, 3, 5, 8, 13, 21, 34, 55, 89, 144, 233, 377, 610, 987]\n",
      "17\n",
      "[0, 1, 1, 2, 3, 5, 8, 13, 21, 34, 55, 89, 144, 233, 377, 610, 987, 1597]\n",
      "18\n",
      "[0, 1, 1, 2, 3, 5, 8, 13, 21, 34, 55, 89, 144, 233, 377, 610, 987, 1597, 2584]\n",
      "19\n",
      "[0, 1, 1, 2, 3, 5, 8, 13, 21, 34, 55, 89, 144, 233, 377, 610, 987, 1597, 2584, 4181]\n",
      "20\n",
      "[0, 1, 1, 2, 3, 5, 8, 13, 21, 34, 55, 89, 144, 233, 377, 610, 987, 1597, 2584, 4181, 6765]\n",
      "21\n",
      "[0, 1, 1, 2, 3, 5, 8, 13, 21, 34, 55, 89, 144, 233, 377, 610, 987, 1597, 2584, 4181, 6765, 10946]\n",
      "22\n",
      "[0, 1, 1, 2, 3, 5, 8, 13, 21, 34, 55, 89, 144, 233, 377, 610, 987, 1597, 2584, 4181, 6765, 10946, 17711]\n",
      "23\n",
      "[0, 1, 1, 2, 3, 5, 8, 13, 21, 34, 55, 89, 144, 233, 377, 610, 987, 1597, 2584, 4181, 6765, 10946, 17711, 28657]\n",
      "24\n",
      "[0, 1, 1, 2, 3, 5, 8, 13, 21, 34, 55, 89, 144, 233, 377, 610, 987, 1597, 2584, 4181, 6765, 10946, 17711, 28657, 46368]\n",
      "25\n",
      "[0, 1, 1, 2, 3, 5, 8, 13, 21, 34, 55, 89, 144, 233, 377, 610, 987, 1597, 2584, 4181, 6765, 10946, 17711, 28657, 46368, 75025]\n",
      "26\n",
      "[0, 1, 1, 2, 3, 5, 8, 13, 21, 34, 55, 89, 144, 233, 377, 610, 987, 1597, 2584, 4181, 6765, 10946, 17711, 28657, 46368, 75025, 121393]\n",
      "27\n",
      "[0, 1, 1, 2, 3, 5, 8, 13, 21, 34, 55, 89, 144, 233, 377, 610, 987, 1597, 2584, 4181, 6765, 10946, 17711, 28657, 46368, 75025, 121393, 196418]\n",
      "28\n",
      "[0, 1, 1, 2, 3, 5, 8, 13, 21, 34, 55, 89, 144, 233, 377, 610, 987, 1597, 2584, 4181, 6765, 10946, 17711, 28657, 46368, 75025, 121393, 196418, 317811]\n",
      "29\n",
      "[0, 1, 1, 2, 3, 5, 8, 13, 21, 34, 55, 89, 144, 233, 377, 610, 987, 1597, 2584, 4181, 6765, 10946, 17711, 28657, 46368, 75025, 121393, 196418, 317811, 514229]\n",
      "30\n",
      "[0, 1, 1, 2, 3, 5, 8, 13, 21, 34, 55, 89, 144, 233, 377, 610, 987, 1597, 2584, 4181, 6765, 10946, 17711, 28657, 46368, 75025, 121393, 196418, 317811, 514229]\n"
     ]
    }
   ],
   "source": [
    "fibo = [0,1]\n",
    "n = 2\n",
    "while(n < 30):\n",
    "    fibo.append(fibo[n-1]+fibo[n-2])\n",
    "    n += 1\n",
    "    print(fibo)\n",
    "    print(n)\n",
    "print(fibo)\n",
    "          \n",
    "     \n",
    "     \n"
   ]
  },
  {
   "cell_type": "code",
   "execution_count": 24,
   "metadata": {},
   "outputs": [
    {
     "name": "stdout",
     "output_type": "stream",
     "text": [
      "[0, 1, 1, 2, 3, 5, 8, 13, 21, 34, 55, 89, 144, 233, 377, 610, 987, 1597, 2584, 4181, 6765, 10946, 17711, 28657, 46368, 75025, 121393, 196418, 317811, 514229, 832040, 1346269]\n"
     ]
    }
   ],
   "source": [
    "fib = [0,1]\n",
    "n=0\n",
    "while(n < 30):\n",
    "    a=-2\n",
    "    b=-1\n",
    "    c=fib[a]\n",
    "    d=fib[b]\n",
    "    suma=c+d\n",
    "    fib.append(suma)\n",
    "    a=a-1\n",
    "    b=b-1\n",
    "    n+=1\n",
    "print(fib)\n",
    "   "
   ]
  },
  {
   "cell_type": "markdown",
   "metadata": {},
   "source": [
    "Realizar la suma de todos los elementos de la lista del punto anterior"
   ]
  },
  {
   "cell_type": "code",
   "execution_count": 25,
   "metadata": {},
   "outputs": [
    {
     "name": "stdout",
     "output_type": "stream",
     "text": [
      "3524577\n"
     ]
    }
   ],
   "source": [
    "print(sum(fib))"
   ]
  },
  {
   "cell_type": "markdown",
   "metadata": {},
   "source": [
    "La proporción áurea se expresa con una proporción matemática que nace el número irracional Phi= 1,618… que los griegos llamaron número áureo. El cual se puede aproximar con la sucesión de Fibonacci. Con la lista del ejercicio anterior, imprima el cociente de los últimos 5 pares de dos números contiguos:\n",
    "Donde i es la cantidad total de elementos\n",
    "n i-1 / n i\n",
    "n i-2 / n i-1\n",
    "n i-3 / n i-2\n",
    "n i-4 / n i-3\n",
    "n i-5 / n i-4"
   ]
  },
  {
   "cell_type": "code",
   "execution_count": 58,
   "metadata": {},
   "outputs": [
    {
     "name": "stdout",
     "output_type": "stream",
     "text": [
      "2.0\n"
     ]
    }
   ],
   "source": [
    "fib = [0,1]\n",
    "n=0\n",
    "while(n < 30):\n",
    "    a=-2\n",
    "    b=-1\n",
    "    c=fib[a]\n",
    "    d=fib[b]\n",
    "    suma=c+d\n",
    "    fib.append(suma)\n",
    "    a=a-1\n",
    "    b=b-1\n",
    "    n+=1\n",
    "\n",
    "n=0\n",
    "while(n < 5):\n",
    "    p=-30\n",
    "    j=-29\n",
    "    g=fib[p]\n",
    "    f=fib[j]\n",
    "    \n",
    "    div=f/g\n",
    "    p=p+1\n",
    "    j=j+1\n",
    "    n+=1\n",
    "print(div)"
   ]
  },
  {
   "cell_type": "code",
   "execution_count": 62,
   "metadata": {},
   "outputs": [
    {
     "name": "stdout",
     "output_type": "stream",
     "text": [
      "55\n",
      "34\n",
      "89\n",
      "55\n",
      "144\n",
      "89\n",
      "233\n",
      "144\n",
      "377\n",
      "233\n"
     ]
    }
   ],
   "source": [
    "primeros = 15\n",
    "n = primeros - 5\n",
    "while(n < primeros):\n",
    "    print(fibo[n])\n",
    "    print(fibo[n-1])\n",
    "    n += 1"
   ]
  },
  {
   "cell_type": "code",
   "execution_count": 3,
   "metadata": {},
   "outputs": [
    {
     "ename": "NameError",
     "evalue": "name 'fib' is not defined",
     "output_type": "error",
     "traceback": [
      "\u001b[1;31m---------------------------------------------------------------------------\u001b[0m",
      "\u001b[1;31mNameError\u001b[0m                                 Traceback (most recent call last)",
      "\u001b[1;32mc:\\Users\\Gersom\\Desktop\\canciones\\Python-Prep\\01 - Introducción a la Programación\\tarea clase 5.ipynb Cell 22'\u001b[0m in \u001b[0;36m<cell line: 2>\u001b[1;34m()\u001b[0m\n\u001b[0;32m      <a href='vscode-notebook-cell:/c%3A/Users/Gersom/Desktop/canciones/Python-Prep/01%20-%20Introducci%C3%B3n%20a%20la%20Programaci%C3%B3n/tarea%20clase%205.ipynb#ch0000021?line=0'>1</a>\u001b[0m h\u001b[39m=\u001b[39m\u001b[39m2\u001b[39m\n\u001b[1;32m----> <a href='vscode-notebook-cell:/c%3A/Users/Gersom/Desktop/canciones/Python-Prep/01%20-%20Introducci%C3%B3n%20a%20la%20Programaci%C3%B3n/tarea%20clase%205.ipynb#ch0000021?line=1'>2</a>\u001b[0m \u001b[39mwhile\u001b[39;00m(h \u001b[39m<\u001b[39m \u001b[39mlen\u001b[39m(fib)):\n\u001b[0;32m      <a href='vscode-notebook-cell:/c%3A/Users/Gersom/Desktop/canciones/Python-Prep/01%20-%20Introducci%C3%B3n%20a%20la%20Programaci%C3%B3n/tarea%20clase%205.ipynb#ch0000021?line=2'>3</a>\u001b[0m     \u001b[39mprint\u001b[39m(fib[h]\u001b[39m/\u001b[39mfib[h\u001b[39m-\u001b[39m\u001b[39m1\u001b[39m])\n\u001b[0;32m      <a href='vscode-notebook-cell:/c%3A/Users/Gersom/Desktop/canciones/Python-Prep/01%20-%20Introducci%C3%B3n%20a%20la%20Programaci%C3%B3n/tarea%20clase%205.ipynb#ch0000021?line=5'>6</a>\u001b[0m     n\u001b[39m+\u001b[39m\u001b[39m=\u001b[39m\u001b[39m1\u001b[39m\n",
      "\u001b[1;31mNameError\u001b[0m: name 'fib' is not defined"
     ]
    }
   ],
   "source": [
    "fib = [0,1]\n",
    "n=0\n",
    "while(n < 30):\n",
    "    a=-2\n",
    "    b=-1\n",
    "    c=fib[a]\n",
    "    d=fib[b]\n",
    "    suma=c+d\n",
    "    fib.append(suma)\n",
    "    a=a-1\n",
    "    b=b-1\n",
    "    n+=1\n",
    "h=2\n",
    "while(h < len(fib)):\n",
    "    print(fib[h]/fib[h-1])\n",
    "    \n",
    "    \n",
    "    n+=1\n",
    "    "
   ]
  }
 ],
 "metadata": {
  "kernelspec": {
   "display_name": "Python 3.10.5 64-bit",
   "language": "python",
   "name": "python3"
  },
  "language_info": {
   "codemirror_mode": {
    "name": "ipython",
    "version": 3
   },
   "file_extension": ".py",
   "mimetype": "text/x-python",
   "name": "python",
   "nbconvert_exporter": "python",
   "pygments_lexer": "ipython3",
   "version": "3.10.5"
  },
  "orig_nbformat": 4,
  "vscode": {
   "interpreter": {
    "hash": "ceb6cd0197f2281671b50cc0797976670facc5580e7b3c2235f12f8813068717"
   }
  }
 },
 "nbformat": 4,
 "nbformat_minor": 2
}
