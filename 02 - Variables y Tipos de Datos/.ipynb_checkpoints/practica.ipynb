{
 "cells": [
  {
   "cell_type": "code",
   "execution_count": 7,
   "metadata": {},
   "outputs": [
    {
     "name": "stdout",
     "output_type": "stream",
     "text": [
      "[1, 2, 3, 'alejandro']\n"
     ]
    }
   ],
   "source": [
    "lista=[1,2,3,\"alejandro\",3.25]\n",
    "print(lista[0:4])"
   ]
  },
  {
   "cell_type": "code",
   "execution_count": null,
   "metadata": {},
   "outputs": [
    {
     "name": "stdout",
     "output_type": "stream",
     "text": [
      "es el mismo tipo de dato\n"
     ]
    }
   ],
   "source": [
    "\n",
    "dato1=input(\"coloca un numero\")\n",
    "dato2=input(\"coloca un numero\")\n",
    "if type(dato1)==type(dato2):\n",
    "    print(\"es el mismo tipo de dato\")\n",
    "else:\n",
    "    print(\"no es el mismo tipo de datos\")"
   ]
  },
  {
   "cell_type": "code",
   "execution_count": null,
   "metadata": {},
   "outputs": [
    {
     "name": "stdout",
     "output_type": "stream",
     "text": [
      "0\n",
      "1\n",
      "8\n",
      "27\n",
      "64\n"
     ]
    }
   ],
   "source": [
    "for i in range(0,5):\n",
    "    print(i**3)"
   ]
  },
  {
   "cell_type": "code",
   "execution_count": null,
   "metadata": {},
   "outputs": [
    {
     "name": "stdout",
     "output_type": "stream",
     "text": [
      "4\n",
      "3\n",
      "2\n",
      "1\n"
     ]
    }
   ],
   "source": [
    "n=4\n",
    "while (n>0):\n",
    "    print(n)\n",
    "    n=n-1"
   ]
  },
  {
   "cell_type": "markdown",
   "metadata": {},
   "source": [
    " Usando un ciclo while para realizar el factoreo de un número guardado en una variable, sólo si la variable contiene un número entero mayor a 0"
   ]
  },
  {
   "cell_type": "code",
   "execution_count": null,
   "metadata": {},
   "outputs": [
    {
     "name": "stdout",
     "output_type": "stream",
     "text": [
      "5\n",
      "20\n",
      "60\n",
      "120\n"
     ]
    }
   ],
   "source": [
    "numeroin = int(input(\"coloque un número diferente a cero\"))\n",
    "factorial = 1\n",
    "while (numeroin > 1):\n",
    "    factorial = numeroin  * factorial\n",
    "    numeroin = numeroin - 1\n",
    "    print(factorial)\n",
    "    "
   ]
  },
  {
   "cell_type": "markdown",
   "metadata": {},
   "source": [
    "crear un ciclo for dentro de un ciclo while"
   ]
  },
  {
   "cell_type": "code",
   "execution_count": null,
   "metadata": {},
   "outputs": [
    {
     "name": "stdout",
     "output_type": "stream",
     "text": [
      "0\n",
      "1\n",
      "8\n",
      "27\n",
      "64\n",
      "0\n",
      "1\n",
      "8\n",
      "27\n",
      "64\n"
     ]
    }
   ],
   "source": [
    "n = int(input(\"coloque un número diferente a cero\"))\n",
    "while (n <21):\n",
    "    for i in range(0,5):\n",
    "        print(i**3)\n",
    "    n = n +1    \n",
    "        "
   ]
  },
  {
   "cell_type": "markdown",
   "metadata": {},
   "source": [
    "Crear un ciclo while dentro de un ciclo for"
   ]
  },
  {
   "cell_type": "code",
   "execution_count": null,
   "metadata": {},
   "outputs": [
    {
     "name": "stdout",
     "output_type": "stream",
     "text": [
      "1\n",
      "2\n",
      "1\n",
      "0\n",
      "2\n",
      "3\n",
      "4\n",
      "5\n",
      "6\n"
     ]
    }
   ],
   "source": [
    "j=3\n",
    "for i in [1,2,3,4,5,6]:\n",
    "    print(i)\n",
    "    while (j>0):\n",
    "        j = j -1\n",
    "        print(j)\n",
    "        "
   ]
  },
  {
   "cell_type": "markdown",
   "metadata": {},
   "source": []
  },
  {
   "cell_type": "markdown",
   "metadata": {},
   "source": [
    "1,3,5,7,11,13,17,19,23,29"
   ]
  },
  {
   "cell_type": "code",
   "execution_count": null,
   "metadata": {},
   "outputs": [],
   "source": [
    "\n",
    "    \n",
    "alto = 30\n",
    "inicio = 0\n",
    "primo = True\n",
    "while (inicio < alto):\n",
    "    for i in (2, n):\n",
    "        if (inicio % i==0):\n",
    "            primo = False\n",
    "    if (primo):\n",
    "        print(inicio)\n",
    "    else:\n",
    "        primo:True\n",
    "    inicio += 1 \n",
    "    \n",
    "tope_rango=30\n",
    "n = 0\n",
    "primo = True\n",
    "while (n < tope_rango):\n",
    "    for div in range(2, n):\n",
    "        if (n % div == 0):\n",
    "            primo = False\n",
    "    if (primo):\n",
    "        print(n)\n",
    "    else:\n",
    "        primo = True\n",
    "    n += 1   \n",
    "            \n"
   ]
  },
  {
   "cell_type": "markdown",
   "metadata": {},
   "source": []
  },
  {
   "cell_type": "code",
   "execution_count": null,
   "metadata": {},
   "outputs": [
    {
     "name": "stdout",
     "output_type": "stream",
     "text": [
      "El número 1 es primo\n",
      "El número 2 es primo\n",
      "El número 3 es primo\n",
      "El número 5 es primo\n",
      "El número 7 es primo\n",
      "El número 11 es primo\n",
      "El número 13 es primo\n",
      "El número 17 es primo\n",
      "El número 19 es primo\n",
      "El número 23 es primo\n",
      "El número 29 es primo\n",
      "1\n",
      "2\n",
      "3\n",
      "5\n",
      "7\n",
      "11\n",
      "13\n",
      "17\n",
      "19\n",
      "23\n",
      "29\n"
     ]
    }
   ],
   "source": [
    "min = 1\n",
    "max = 30\n",
    "for n in range(min, (max + 1)):\n",
    "    primo = True\n",
    "    j = 2\n",
    "    while(j < n):\n",
    "        if (n % j == 0):\n",
    "            primo = False\n",
    "            break\n",
    "        j += 1\n",
    "    if (primo):\n",
    "        print('El número', n, 'es primo')\n",
    "\n",
    "\n",
    "for x in range(1,31):\n",
    "    primo = True\n",
    "    divi=2\n",
    "    while (x > divi):\n",
    "        if(x % divi ==0):\n",
    "            primo = False\n",
    "            break\n",
    "        divi = divi + 1\n",
    "    if(primo):\n",
    "        print(x)\n",
    "        "
   ]
  },
  {
   "cell_type": "markdown",
   "metadata": {},
   "source": [
    "Aplicando continue, armar un ciclo while que solo imprima los valores divisibles por 12, dentro del rango de números de 100 a 300"
   ]
  },
  {
   "cell_type": "markdown",
   "metadata": {},
   "source": [
    "Utilizar la función input() que permite hacer ingresos por teclado, para encontrar números primos y dar la opción al usario de buscar el siguiente"
   ]
  },
  {
   "cell_type": "code",
   "execution_count": null,
   "metadata": {},
   "outputs": [],
   "source": [
    "a= 7\n",
    "\n",
    "b= a%2"
   ]
  },
  {
   "cell_type": "code",
   "execution_count": null,
   "metadata": {},
   "outputs": [
    {
     "name": "stdout",
     "output_type": "stream",
     "text": [
      "7 es impar\n"
     ]
    }
   ],
   "source": [
    "\n",
    "if(x%2 == 0):\n",
    "    print(x, \"es un número par\")\n",
    "else:\n",
    "    print(a, \"es impar\")"
   ]
  },
  {
   "cell_type": "code",
   "execution_count": null,
   "metadata": {},
   "outputs": [
    {
     "name": "stdout",
     "output_type": "stream",
     "text": [
      "2 es un número par\n",
      "4 es un número par\n",
      "6 es un número par\n",
      "8 es un número par\n",
      "10 es un número par\n",
      "12 es un número par\n",
      "14 es un número par\n",
      "16 es un número par\n",
      "18 es un número par\n",
      "20 es un número par\n"
     ]
    }
   ],
   "source": [
    "for a in range(1,21):\n",
    "    if(a%2 == 0):\n",
    "        print(a, \"es un número par\")\n",
    "    else:\n",
    "        continue\n",
    "    "
   ]
  },
  {
   "cell_type": "code",
   "execution_count": 96,
   "metadata": {},
   "outputs": [
    {
     "name": "stdout",
     "output_type": "stream",
     "text": [
      "0\n",
      "1\n",
      "2\n",
      "3\n",
      "4\n",
      "5\n",
      "6\n",
      "7\n",
      "8\n",
      "9\n",
      "10\n",
      "11\n"
     ]
    }
   ],
   "source": [
    "n = 12\n",
    "for h in range(0,n):\n",
    "    print(h)"
   ]
  },
  {
   "cell_type": "code",
   "execution_count": 99,
   "metadata": {},
   "outputs": [
    {
     "name": "stdout",
     "output_type": "stream",
     "text": [
      "el numero debe ser mayor a cero\n"
     ]
    }
   ],
   "source": [
    "h = 8\n",
    "if (h > 0):\n",
    "    pass\n",
    "else:\n",
    "    print(\"el numero debe ser mayor a cero\")"
   ]
  },
  {
   "cell_type": "code",
   "execution_count": 112,
   "metadata": {},
   "outputs": [
    {
     "name": "stdout",
     "output_type": "stream",
     "text": [
      "el factorial de 5 es 120\n"
     ]
    }
   ],
   "source": [
    "\n",
    "h = 5\n",
    "factorial = 1\n",
    "if (type(h) == int):\n",
    "    if(h>0):\n",
    "        original_h = h\n",
    "        while(h>1):\n",
    "            factorial=factorial * h \n",
    "            h -= 1\n",
    "        print(\"el factorial de\", original_h , \"es\", factorial)\n",
    "        pass\n",
    "    else:\n",
    "        print(\"la variable debe diferente a cero\")\n",
    "else:\n",
    "    print(\"la variable debe ser un numero\")"
   ]
  },
  {
   "cell_type": "code",
   "execution_count": 138,
   "metadata": {},
   "outputs": [
    {
     "name": "stdout",
     "output_type": "stream",
     "text": [
      "el numero 1 es primo\n",
      "el numero 2 es primo\n",
      "el numero 3 es primo\n",
      "el numero 5 es primo\n",
      "el numero 7 es primo\n",
      "el numero 9 es primo\n",
      "el numero 11 es primo\n",
      "el numero 13 es primo\n",
      "el numero 15 es primo\n",
      "el numero 17 es primo\n",
      "el numero 19 es primo\n",
      "el numero 21 es primo\n",
      "el numero 23 es primo\n",
      "el numero 25 es primo\n",
      "el numero 27 es primo\n",
      "el numero 29 es primo\n"
     ]
    }
   ],
   "source": [
    "for nro in range(1,31):\n",
    "    es_primo = True\n",
    "    for a in range(2,nro):\n",
    "        if(nro % a ==0):\n",
    "            es_primo = False\n",
    "           \n",
    "        break\n",
    "    if(es_primo):\n",
    "        \n",
    "     print(\"el numero\",nro, \"es primo\")\n",
    "    \n",
    "\n",
    "    "
   ]
  },
  {
   "cell_type": "markdown",
   "metadata": {},
   "source": []
  },
  {
   "cell_type": "code",
   "execution_count": null,
   "metadata": {},
   "outputs": [],
   "source": []
  }
 ],
 "metadata": {
  "kernelspec": {
   "display_name": "Python 3.10.5 64-bit",
   "language": "python",
   "name": "python3"
  },
  "language_info": {
   "codemirror_mode": {
    "name": "ipython",
    "version": 3
   },
   "file_extension": ".py",
   "mimetype": "text/x-python",
   "name": "python",
   "nbconvert_exporter": "python",
   "pygments_lexer": "ipython3",
   "version": "3.10.5"
  },
  "orig_nbformat": 4,
  "vscode": {
   "interpreter": {
    "hash": "ceb6cd0197f2281671b50cc0797976670facc5580e7b3c2235f12f8813068717"
   }
  }
 },
 "nbformat": 4,
 "nbformat_minor": 2
}
