{
 "cells": [
  {
   "cell_type": "markdown",
   "metadata": {},
   "source": [
    "Crear una función que reciba un número como parámetro y devuelva si True si es primo y False si no lo es"
   ]
  },
  {
   "cell_type": "code",
   "execution_count": 83,
   "metadata": {},
   "outputs": [],
   "source": [
    "\n",
    "def verifica_primo(nro):\n",
    "    es_primo = True\n",
    "    for i in range(2, nro):\n",
    "        if nro % i == 0:\n",
    "            es_primo = False\n",
    "            break\n",
    "    return es_primo       \n",
    "        "
   ]
  },
  {
   "cell_type": "code",
   "execution_count": 84,
   "metadata": {},
   "outputs": [
    {
     "data": {
      "text/plain": [
       "True"
      ]
     },
     "execution_count": 84,
     "metadata": {},
     "output_type": "execute_result"
    }
   ],
   "source": [
    "verifica_primo(7)"
   ]
  },
  {
   "cell_type": "code",
   "execution_count": 93,
   "metadata": {},
   "outputs": [],
   "source": [
    "\n",
    "def lista(entrada):\n",
    "    primos = []\n",
    "    for d in entrada:\n",
    "        if verifica_primo(int(d)):\n",
    "            primos.append(d)\n",
    "    return primos        \n",
    "                \n",
    "     \n"
   ]
  },
  {
   "cell_type": "markdown",
   "metadata": {},
   "source": [
    "Crear una función que al recibir una lista de números, devuelva el que más se repite y cuantas veces lo hace. Si hay más de un \"más repetido\", que devuelva cualquiera"
   ]
  },
  {
   "cell_type": "code",
   "execution_count": 121,
   "metadata": {},
   "outputs": [
    {
     "ename": "IndexError",
     "evalue": "list index out of range",
     "output_type": "error",
     "traceback": [
      "\u001b[1;31m---------------------------------------------------------------------------\u001b[0m",
      "\u001b[1;31mIndexError\u001b[0m                                Traceback (most recent call last)",
      "\u001b[1;32mc:\\Users\\Gersom\\Desktop\\canciones\\Python-Prep\\05 - Iteradores e Iterables\\clase 6 tarea.ipynb Cell 6'\u001b[0m in \u001b[0;36m<cell line: 3>\u001b[1;34m()\u001b[0m\n\u001b[0;32m      <a href='vscode-notebook-cell:/c%3A/Users/Gersom/Desktop/canciones/Python-Prep/05%20-%20Iteradores%20e%20Iterables/clase%206%20tarea.ipynb#ch0000010?line=4'>5</a>\u001b[0m \u001b[39m# if lista_desconocida[n]>0 :\u001b[39;00m\n\u001b[0;32m      <a href='vscode-notebook-cell:/c%3A/Users/Gersom/Desktop/canciones/Python-Prep/05%20-%20Iteradores%20e%20Iterables/clase%206%20tarea.ipynb#ch0000010?line=5'>6</a>\u001b[0m  \u001b[39mfor\u001b[39;00m i \u001b[39min\u001b[39;00m \u001b[39mrange\u001b[39m(\u001b[39m1\u001b[39m,\u001b[39m1000\u001b[39m):  \n\u001b[1;32m----> <a href='vscode-notebook-cell:/c%3A/Users/Gersom/Desktop/canciones/Python-Prep/05%20-%20Iteradores%20e%20Iterables/clase%206%20tarea.ipynb#ch0000010?line=6'>7</a>\u001b[0m      \u001b[39mif\u001b[39;00m (lista_desconocida[n]\u001b[39m/\u001b[39mi \u001b[39m==\u001b[39m \u001b[39m1\u001b[39m):\n\u001b[0;32m      <a href='vscode-notebook-cell:/c%3A/Users/Gersom/Desktop/canciones/Python-Prep/05%20-%20Iteradores%20e%20Iterables/clase%206%20tarea.ipynb#ch0000010?line=7'>8</a>\u001b[0m          Lista_conocida\u001b[39m.\u001b[39mappend(lista_desconocida[n])\n\u001b[0;32m     <a href='vscode-notebook-cell:/c%3A/Users/Gersom/Desktop/canciones/Python-Prep/05%20-%20Iteradores%20e%20Iterables/clase%206%20tarea.ipynb#ch0000010?line=9'>10</a>\u001b[0m      n \u001b[39m+\u001b[39m\u001b[39m=\u001b[39m \u001b[39m1\u001b[39m        \n",
      "\u001b[1;31mIndexError\u001b[0m: list index out of range"
     ]
    }
   ],
   "source": [
    "lista_desconocida = [1,10,8,9,42,10,6,2]\n",
    "n=0\n",
    "while (n<10): \n",
    "    Lista_conocida = []\n",
    "   # if lista_desconocida[n]>0 :\n",
    "    for i in range(1,1000):  \n",
    "        if (lista_desconocida[n]/i == 1):\n",
    "            Lista_conocida.append(lista_desconocida[n])\n",
    "                \n",
    "        n += 1        \n",
    "print(Lista_conocida)"
   ]
  }
 ],
 "metadata": {
  "kernelspec": {
   "display_name": "Python 3.10.5 64-bit",
   "language": "python",
   "name": "python3"
  },
  "language_info": {
   "codemirror_mode": {
    "name": "ipython",
    "version": 3
   },
   "file_extension": ".py",
   "mimetype": "text/x-python",
   "name": "python",
   "nbconvert_exporter": "python",
   "pygments_lexer": "ipython3",
   "version": "3.10.5"
  },
  "orig_nbformat": 4,
  "vscode": {
   "interpreter": {
    "hash": "ceb6cd0197f2281671b50cc0797976670facc5580e7b3c2235f12f8813068717"
   }
  }
 },
 "nbformat": 4,
 "nbformat_minor": 2
}
