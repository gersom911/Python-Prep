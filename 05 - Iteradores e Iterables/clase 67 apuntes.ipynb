{
 "cells": [
  {
   "cell_type": "markdown",
   "metadata": {},
   "source": [
    "funcion de numero primo"
   ]
  },
  {
   "cell_type": "code",
   "execution_count": 12,
   "metadata": {},
   "outputs": [
    {
     "name": "stdout",
     "output_type": "stream",
     "text": [
      "el número no es primo\n"
     ]
    }
   ],
   "source": [
    "nro = 10\n",
    "for i in range(2,int(nro/2)+1):\n",
    "    if(nro%i ==0):\n",
    "        print(\"el número no es primo\")\n",
    "        break"
   ]
  },
  {
   "cell_type": "code",
   "execution_count": 21,
   "metadata": {},
   "outputs": [
    {
     "name": "stdout",
     "output_type": "stream",
     "text": [
      "el núnero es primo la declaración es True\n"
     ]
    }
   ],
   "source": [
    "nro = 7\n",
    "es_primo = True\n",
    "for i in range(2,int(nro/2)+1):\n",
    "    if(nro%i ==0):\n",
    "        es_primo =False\n",
    "        print(\"el número no es primo\", \"la declaración es\", es_primo)\n",
    "        break\n",
    "else:\n",
    "    print(\"el núnero es primo\", \"la declaración es\", es_primo)"
   ]
  },
  {
   "cell_type": "code",
   "execution_count": 28,
   "metadata": {},
   "outputs": [],
   "source": [
    "def comprobar(nro):\n",
    "    es_primo = True\n",
    "    for i in range(2,int(nro/2)+1):\n",
    "        if(nro%i ==0):\n",
    "            es_primo =False\n",
    "            \n",
    "            break\n",
    "    \n",
    "    return es_primo\n",
    "    \n",
    "    "
   ]
  },
  {
   "cell_type": "code",
   "execution_count": 29,
   "metadata": {},
   "outputs": [
    {
     "data": {
      "text/plain": [
       "False"
      ]
     },
     "execution_count": 29,
     "metadata": {},
     "output_type": "execute_result"
    }
   ],
   "source": [
    "comprobar(10)\n"
   ]
  },
  {
   "cell_type": "markdown",
   "metadata": {},
   "source": [
    "utilizar la funcion dentrod eotra"
   ]
  },
  {
   "cell_type": "code",
   "execution_count": 36,
   "metadata": {},
   "outputs": [
    {
     "name": "stdout",
     "output_type": "stream",
     "text": [
      "[101, 103, 107, 109, 113, 127, 131, 137, 139, 149, 151, 157, 163, 167, 173, 179, 181, 191, 193, 197, 199, 211, 223, 227, 229, 233, 239, 241, 251, 257, 263, 269, 271, 277, 281, 283, 293]\n"
     ]
    }
   ],
   "source": [
    "#lista1 se usa como muestra, primo contendrá los numero primos\n",
    "lista1 = list(range(100,300))\n",
    "primo = []\n",
    "for elemento in lista1:\n",
    "    if (comprobar(elemento)== True):\n",
    "        primo.append(elemento)\n",
    "print(primo)\n"
   ]
  },
  {
   "cell_type": "code",
   "execution_count": 40,
   "metadata": {},
   "outputs": [],
   "source": [
    "#creo la función\n",
    "def numero_primo_lista(dec):\n",
    "    primo = []\n",
    "    for elemento in dec:\n",
    "        if (comprobar(elemento)== True):\n",
    "            primo.append(elemento)\n",
    "    return primo   "
   ]
  },
  {
   "cell_type": "code",
   "execution_count": 44,
   "metadata": {},
   "outputs": [
    {
     "name": "stdout",
     "output_type": "stream",
     "text": [
      "[1, 2, 3, 5, 7, 41]\n"
     ]
    }
   ],
   "source": [
    "calculo = [1,2,3,4,5,6,7,8,9,41]\n",
    "lista2 = numero_primo_lista(calculo)\n",
    "print(lista2)\n"
   ]
  },
  {
   "cell_type": "code",
   "execution_count": 78,
   "metadata": {},
   "outputs": [
    {
     "name": "stdout",
     "output_type": "stream",
     "text": [
      "1\n",
      "1\n",
      "1\n",
      "5\n",
      "1\n",
      "5\n",
      "1\n",
      "1\n",
      "5\n",
      "1\n",
      "1\n",
      "5\n",
      "5\n",
      "1\n",
      "1\n",
      "5\n",
      "5\n",
      "5\n",
      "1\n",
      "1\n",
      "5\n",
      "5\n",
      "5\n",
      "5\n",
      "1\n",
      "1\n",
      "5\n",
      "5\n",
      "5\n",
      "5\n",
      "5\n",
      "1\n",
      "1\n",
      "4\n",
      "5\n",
      "5\n",
      "5\n",
      "5\n",
      "5\n",
      "1\n",
      "1\n",
      "4\n",
      "4\n",
      "5\n",
      "5\n",
      "5\n",
      "5\n",
      "5\n",
      "1\n",
      "1\n",
      "4\n",
      "4\n",
      "5\n",
      "5\n",
      "5\n",
      "5\n",
      "5\n",
      "6\n",
      "1\n",
      "1\n",
      "4\n",
      "4\n",
      "5\n",
      "5\n",
      "5\n",
      "5\n",
      "5\n",
      "6\n",
      "6\n"
     ]
    }
   ],
   "source": [
    "lista = [1,2,5,8,1,5,5,5,5,4,4,6,6]\n",
    "repetidos = []\n",
    "lista_repeticiones =[]\n",
    "for num in lista:\n",
    "    contador = lista.count(num)\n",
    "    #print(num, contador)\n",
    "    if contador > 1:\n",
    "        repetidos.append(num)\n",
    "        #print(repetidos)\n",
    "        repetidos.sort()\n",
    "        if (num !=)\n",
    "        #lista_repeticiones[i] += 1\n",
    "        "
   ]
  },
  {
   "cell_type": "code",
   "execution_count": 109,
   "metadata": {},
   "outputs": [
    {
     "name": "stdout",
     "output_type": "stream",
     "text": [
      "lista[ 0 ]= 1 se repite 2 veces\n",
      "2\n",
      "lista[ 1 ]= 2 se repite 1 veces\n",
      "lista[ 2 ]= 5 se repite 2 veces\n",
      "lista[ 3 ]= 8 se repite 1 veces\n",
      "lista[ 4 ]= 1 se repite 2 veces\n",
      "lista[ 5 ]= 5 se repite 2 veces\n",
      "lista[ 6 ]= 4 se repite 2 veces\n",
      "lista[ 7 ]= 4 se repite 2 veces\n",
      "lista[ 8 ]= 6 se repite 2 veces\n",
      "lista[ 9 ]= 6 se repite 2 veces\n",
      "la moda es 1 y se repite 2\n"
     ]
    }
   ],
   "source": [
    "lista = [1,2,5,8,1,5,4,4,6,6]\n",
    "cantidad_elementos_lista = len(lista)\n",
    "cuenta = 0 #para contar los elementso que se repiten\n",
    "mayor = 0\n",
    "for i in range (cantidad_elementos_lista):\n",
    "    cuenta=0\n",
    "    for j in range (cantidad_elementos_lista):\n",
    "        if (lista[i] == lista[j]):\n",
    "            cuenta += 1\n",
    "    print(\"lista[\",i,\"]=\", lista[i],\"se repite\" , cuenta, \"veces\")  \n",
    "    if(cuenta>mayor):\n",
    "        mayor = cuenta\n",
    "        print(mayor)\n",
    "        moda = lista[i] \n",
    "print(\"la moda es\",moda, \"y se repite\",mayor) "
   ]
  },
  {
   "cell_type": "code",
   "execution_count": 126,
   "metadata": {},
   "outputs": [],
   "source": [
    "lista = [1,2,5,8,1,5,5,4,4,6,6,6]\n",
    "def moda(lista,menor):\n",
    "    cantidad_elementos_lista = len(lista)\n",
    "    if(menor==True):\n",
    "        lista.sort()\n",
    "    else:\n",
    "        lista.sort(reverse=True)\n",
    "    \n",
    "    \n",
    "    cuenta = 0 #para contar los elementso que se repiten\n",
    "    mayor = 0 # para comparar el valor de cuenta\n",
    "    for i in range (cantidad_elementos_lista):\n",
    "        cuenta=0\n",
    "        for j in range (cantidad_elementos_lista):\n",
    "            if (lista[i] == lista[j]):\n",
    "                cuenta += 1\n",
    "        #print(\"lista[\",i,\"]=\", lista[i],\"se repite\" , cuenta, \"veces\")  \n",
    "        if(cuenta>mayor):\n",
    "            mayor = cuenta\n",
    "           # print(mayor)\n",
    "            moda = lista[i] \n",
    "    return(moda, mayor)"
   ]
  },
  {
   "cell_type": "code",
   "execution_count": 128,
   "metadata": {},
   "outputs": [
    {
     "data": {
      "text/plain": [
       "(6, 3)"
      ]
     },
     "execution_count": 128,
     "metadata": {},
     "output_type": "execute_result"
    }
   ],
   "source": [
    "moda (lista,False)\n"
   ]
  },
  {
   "cell_type": "code",
   "execution_count": 118,
   "metadata": {},
   "outputs": [
    {
     "name": "stdout",
     "output_type": "stream",
     "text": [
      "a\n"
     ]
    }
   ],
   "source": [
    "Crear una función que convierta entre grados Celsius, Farenheit y Kelvin\n",
    "Fórmula 1 : (°C × 9/5) + 32 = °F\n",
    "Fórmula 2 : °C + 273.15 = °K\n",
    "Debe recibir 3 parámetros: el valor, la medida de origen y la medida de destino"
   ]
  },
  {
   "cell_type": "code",
   "execution_count": 145,
   "metadata": {},
   "outputs": [],
   "source": [
    "def transformar_temperatura(valor,origen,destino):\n",
    "    '''\n",
    "    Esta función devuelve el valor de la temperatura deseada y su unida y recibe de parámetros dos valores:\n",
    "    1-Un numero\n",
    "    2-una str que puede ser \"k\", \"f\" o \"c\" que indica unidad de entrada kelvin, faren, o celcios.\n",
    "    3-una str que puede ser \"k\", \"f\" o \"c\" que indica unidad de a la cual se desea llegara kelvin, faren, o celcios.\n",
    "    '''\n",
    "    resultado=0\n",
    "    unidad=\"a\"\n",
    "    unidad1=\"b\"\n",
    "    kelvin = \"K\"\n",
    "    faren = \"°F\"\n",
    "    celcius = '°C'\n",
    "    if (origen == \"c\"):\n",
    "        if (destino == \"k\"):\n",
    "            resultado = valor + 273.15\n",
    "            unidad1=celcius\n",
    "            unidad = kelvin\n",
    "        elif(destino == \"f\"):\n",
    "            resultado = (valor *9/5)+32\n",
    "            unidad1 = celcius\n",
    "            unidad = faren\n",
    "        elif(destino == \"c\"):\n",
    "            unidad1 = celcius\n",
    "            resultado = valor\n",
    "            unidad = celcius    \n",
    "    #print(\"el valor es \", resultado,unidad ) \n",
    "    \n",
    "\n",
    "    if (origen == \"k\"):\n",
    "        if (destino == \"k\"):\n",
    "            resultado = valor\n",
    "            unidad1 = kelvin\n",
    "            unidad = kelvin\n",
    "        elif(destino == \"f\"):\n",
    "            resultado = ((valor - 273.15)*9/5)+32\n",
    "            unidad1 = kelvin\n",
    "            unidad = faren\n",
    "        elif(destino == \"c\"):\n",
    "            resultado = valor-273.15\n",
    "            unidad1 = kelvin\n",
    "            unidad = celcius    \n",
    "    #print(\"el valor es \", resultado,unidad )   \n",
    "\n",
    "    if (origen == \"f\"):\n",
    "        if (destino == \"k\"):\n",
    "            resultado = ((valor - 32)*5/9)+273.15\n",
    "            unidad1 = faren\n",
    "            unidad = kelvin\n",
    "        elif(destino == \"f\"):\n",
    "            resultado = valor\n",
    "            unidad1 = faren\n",
    "            unidad = faren\n",
    "        elif(destino == \"c\"):\n",
    "            resultado = (valor - 32)*5/9\n",
    "            unidad1 = faren\n",
    "            unidad = celcius    \n",
    "    print(valor,unidad1,  \"es \", resultado,unidad )    \n",
    "    return resultado,unidad"
   ]
  },
  {
   "cell_type": "code",
   "execution_count": null,
   "metadata": {},
   "outputs": [],
   "source": []
  },
  {
   "cell_type": "code",
   "execution_count": 146,
   "metadata": {},
   "outputs": [
    {
     "name": "stdout",
     "output_type": "stream",
     "text": [
      "10 K es  -441.66999999999996 °F\n"
     ]
    },
    {
     "data": {
      "text/plain": [
       "(-441.66999999999996, '°F')"
      ]
     },
     "execution_count": 146,
     "metadata": {},
     "output_type": "execute_result"
    }
   ],
   "source": [
    "transformar_temperatura(10,\"k\",\"f\")"
   ]
  },
  {
   "cell_type": "markdown",
   "metadata": {},
   "source": []
  }
 ],
 "metadata": {
  "kernelspec": {
   "display_name": "Python 3.10.5 64-bit",
   "language": "python",
   "name": "python3"
  },
  "language_info": {
   "codemirror_mode": {
    "name": "ipython",
    "version": 3
   },
   "file_extension": ".py",
   "mimetype": "text/x-python",
   "name": "python",
   "nbconvert_exporter": "python",
   "pygments_lexer": "ipython3",
   "version": "3.10.5"
  },
  "orig_nbformat": 4,
  "vscode": {
   "interpreter": {
    "hash": "ceb6cd0197f2281671b50cc0797976670facc5580e7b3c2235f12f8813068717"
   }
  }
 },
 "nbformat": 4,
 "nbformat_minor": 2
}
